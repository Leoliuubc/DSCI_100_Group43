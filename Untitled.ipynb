{
 "cells": [
  {
   "cell_type": "markdown",
   "id": "93c12289-420c-4ffa-b0eb-a44ef8d6b2d8",
   "metadata": {},
   "source": [
    "Prediction on Tax Frauds"
   ]
  },
  {
   "cell_type": "code",
   "execution_count": null,
   "id": "1651b784-fa02-4a85-b875-cfc9689f08f3",
   "metadata": {},
   "outputs": [],
   "source": []
  },
  {
   "cell_type": "code",
   "execution_count": 1,
   "id": "a13292f0-bec2-4ec8-8794-657c1b384196",
   "metadata": {},
   "outputs": [
    {
     "ename": "ERROR",
     "evalue": "Error in read_csv(\"data/audit_risk.csv\"): could not find function \"read_csv\"\n",
     "output_type": "error",
     "traceback": [
      "Error in read_csv(\"data/audit_risk.csv\"): could not find function \"read_csv\"\nTraceback:\n"
     ]
    }
   ],
   "source": [
    "\n",
    "audit_risk <- read_csv(\"data/audit_risk.csv\")\n",
    "audit_risk"
   ]
  },
  {
   "cell_type": "code",
   "execution_count": null,
   "id": "ac9902e2-3aae-41e1-8d71-266c39018158",
   "metadata": {},
   "outputs": [],
   "source": []
  }
 ],
 "metadata": {
  "kernelspec": {
   "display_name": "R",
   "language": "R",
   "name": "ir"
  },
  "language_info": {
   "codemirror_mode": "r",
   "file_extension": ".r",
   "mimetype": "text/x-r-source",
   "name": "R",
   "pygments_lexer": "r",
   "version": "4.1.3"
  }
 },
 "nbformat": 4,
 "nbformat_minor": 5
}
